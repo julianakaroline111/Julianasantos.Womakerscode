{
  "nbformat": 4,
  "nbformat_minor": 0,
  "metadata": {
    "colab": {
      "provenance": [],
      "authorship_tag": "ABX9TyOe2CExo0490jCXosN/UkMu",
      "include_colab_link": true
    },
    "kernelspec": {
      "name": "python3",
      "display_name": "Python 3"
    },
    "language_info": {
      "name": "python"
    }
  },
  "cells": [
    {
      "cell_type": "markdown",
      "metadata": {
        "id": "view-in-github",
        "colab_type": "text"
      },
      "source": [
        "<a href=\"https://colab.research.google.com/github/julianakaroline111/Julianasantos.Womakerscode/blob/main/Estat%C3%ADstica_Teste_de_Hip%C3%B3teses_Juliana_WMC_April.ipynb\" target=\"_parent\"><img src=\"https://colab.research.google.com/assets/colab-badge.svg\" alt=\"Open In Colab\"/></a>"
      ]
    },
    {
      "cell_type": "markdown",
      "source": [
        "Exercício 1: Avaliação da Taxa de Conversão entre Cenários"
      ],
      "metadata": {
        "id": "Pa1RecN3rybi"
      }
    },
    {
      "cell_type": "code",
      "source": [
        "import pandas as pd\n",
        "\n",
        "# Carregando dados do experimento A/B para análise\n",
        "experimento_df = pd.read_csv('/experimento_teste_ab.csv')\n",
        "\n",
        "# Calculando e exibindo a taxa de conversão por versão de página\n",
        "conversion_rates = experimento_df.groupby('Versão_Página').apply(\n",
        "    lambda x: x['Conversões'].sum() / x['Visualizações'].sum()\n",
        ")\n",
        "print(\"Análise de Taxa de Conversão por Página:\\n\", conversion_rates.to_string())"
      ],
      "metadata": {
        "colab": {
          "base_uri": "https://localhost:8080/"
        },
        "id": "T3902SD3twUw",
        "outputId": "457a0ab8-2318-48bd-f8b2-515d74b74f13"
      },
      "execution_count": 8,
      "outputs": [
        {
          "output_type": "stream",
          "name": "stdout",
          "text": [
            "Análise de Taxa de Conversão por Página:\n",
            " Versão_Página\n",
            "A    0.000696\n",
            "B    0.000830\n"
          ]
        }
      ]
    },
    {
      "cell_type": "code",
      "source": [
        "# Formatação dos resultados de taxa de conversão para exibição em porcentagem\n",
        "conversion_rates_percent = conversion_rates.apply(lambda x: f\"{x * 100:.2f}%\")\n",
        "print(\"Análise de Taxa de Conversão por Página (em porcentagem):\\n\", conversion_rates_percent.to_string())"
      ],
      "metadata": {
        "colab": {
          "base_uri": "https://localhost:8080/"
        },
        "id": "aPovKUax2MFY",
        "outputId": "aab6d57c-8e07-45f1-ae45-deda7534dae3"
      },
      "execution_count": 9,
      "outputs": [
        {
          "output_type": "stream",
          "name": "stdout",
          "text": [
            "Análise de Taxa de Conversão por Página (em porcentagem):\n",
            " Versão_Página\n",
            "A    0.07%\n",
            "B    0.08%\n"
          ]
        }
      ]
    },
    {
      "cell_type": "markdown",
      "source": [
        "Exercício 2: Determinação do Tamanho da Amostra para Teste A/B\n",
        "\n",
        "\n",
        "\n",
        "\n"
      ],
      "metadata": {
        "id": "N9Msv1nO2QCA"
      }
    },
    {
      "cell_type": "code",
      "source": [
        "import pandas as pd\n",
        "from statsmodels.stats.power import NormalIndPower\n",
        "from statsmodels.stats.proportion import proportion_effectsize\n",
        "\n",
        "# Carregando os dados do experimento para avaliação do cenário de conversão\n",
        "dados_experimento = pd.read_csv('/experimento_teste_ab.csv')\n",
        "\n",
        "# Calculando a taxa de conversão atual do cenário A, que é nosso controle\n",
        "taxa_atual_cenario_A = dados_experimento[dados_experimento['Versão_Página'] == 'A']['Conversões'].sum() / dados_experimento[dados_experimento['Versão_Página'] == 'A']['Visualizações'].sum()\n",
        "\n",
        "# Definindo a nova meta de taxa de conversão desejada para 10%\n",
        "meta_taxa_conversao = 0.10\n",
        "\n",
        "# Calculando o tamanho do efeito necessário para detectar a mudança desejada entre o cenário atual e a nova meta\n",
        "tamanho_do_efeito = proportion_effectsize(taxa_atual_cenario_A, meta_taxa_conversao)\n",
        "\n",
        "# Preparando a análise de poder estatístico para determinar o tamanho da amostra\n",
        "analise_poder = NormalIndPower()\n",
        "\n",
        "try:\n",
        "    # Determinando o tamanho da amostra necessário para alcançar os objetivos do teste com 95% de confiança e 80% de poder\n",
        "    tamanho_amostra_necessario = analise_poder.solve_power(effect_size=tamanho_do_efeito, alpha=0.05, power=0.80, ratio=1.0, alternative='two-sided')\n",
        "    print(f\"Taxa de conversão atual no cenário A: {taxa_atual_cenario_A:.4f}\")\n",
        "    print(f\"Tamanho do efeito estimado: {tamanho_do_efeito:.4f}\")\n",
        "    print(f\"Tamanho da amostra necessário por grupo para detectar a mudança desejada: {int(tamanho_amostra_necessario)}\")\n",
        "except Exception as erro:\n",
        "    print(f\"Ocorreu um erro ao calcular o tamanho da amostra: {erro}\")\n"
      ],
      "metadata": {
        "colab": {
          "base_uri": "https://localhost:8080/"
        },
        "id": "OGBxh6g19fam",
        "outputId": "d39f7987-bd15-4842-cc0b-e9017c70297c"
      },
      "execution_count": 10,
      "outputs": [
        {
          "output_type": "stream",
          "name": "stdout",
          "text": [
            "Taxa de conversão atual no cenário A: 0.0007\n",
            "Tamanho do efeito estimado: -0.5907\n",
            "Tamanho da amostra necessário por grupo para detectar a mudança desejada: 44\n"
          ]
        }
      ]
    },
    {
      "cell_type": "markdown",
      "source": [
        "Exercício 3: Análise de Idade Média em Pacientes com Problemas Cardíacos\n"
      ],
      "metadata": {
        "id": "3VGkiPar98pf"
      }
    },
    {
      "cell_type": "code",
      "source": [
        "import pandas as pd\n",
        "from scipy import stats\n",
        "\n",
        "# Carregando a base de dados de pacientes para análise\n",
        "dados_pacientes = pd.read_csv('/pacientes.csv')\n",
        "\n",
        "# Definindo uma lista de índices representativos para estudar um grupo específico de pacientes\n",
        "indices_selecionados = [909, 751, 402, 400, 726, 39, 184, 269, 255, 769, 209, 715, 677, 381, 793, 697,\n",
        "                        89, 280, 232, 756, 358, 36, 439, 768, 967, 699, 473, 222, 89, 639, 883, 558, 757,\n",
        "                        84, 907, 895, 217, 224, 311, 348, 146, 505, 273, 957, 362]\n",
        "\n",
        "# Extrair as idades dos pacientes usando os índices especificados\n",
        "amostra_idades = dados_pacientes.loc[indices_selecionados, 'Idade']\n",
        "\n",
        "# Aplicar teste estatístico t para verificar se a idade média dos pacientes excede 50 anos\n",
        "t_estatistica, valor_p = stats.ttest_1samp(amostra_idades, 50)\n",
        "\n",
        "# Apresentar os resultados de uma forma clara e interpretativa\n",
        "print(f\"Análise da Idade dos Pacientes com Problemas Cardíacos:\\nEstatística-t = {t_estatistica:.2f}, Valor-p = {valor_p:.4f}\")\n",
        "\n",
        "# Decisão baseada no valor-p e na significância estatística definida\n",
        "if valor_p < 0.05:\n",
        "    print(\"Conclusão: Há evidências estatísticas de que a idade média é significativamente maior que 50 anos.\")\n",
        "else:\n",
        "    print(\"Conclusão: As evidências não são suficientes para afirmar que a idade média ultrapassa 50 anos.\")\n"
      ],
      "metadata": {
        "colab": {
          "base_uri": "https://localhost:8080/"
        },
        "id": "E8piVkLt_vuN",
        "outputId": "b08e92c2-079b-417f-a0d9-48ed256e1ddd"
      },
      "execution_count": 11,
      "outputs": [
        {
          "output_type": "stream",
          "name": "stdout",
          "text": [
            "Análise da Idade dos Pacientes com Problemas Cardíacos:\n",
            "Estatística-t = 0.05, Valor-p = 0.9585\n",
            "Conclusão: As evidências não são suficientes para afirmar que a idade média ultrapassa 50 anos.\n"
          ]
        }
      ]
    },
    {
      "cell_type": "markdown",
      "source": [
        "Exercício 4: Análise/Discussão sobre a Independência de Amostras"
      ],
      "metadata": {
        "id": "FouRtRaXALQB"
      }
    },
    {
      "cell_type": "code",
      "source": [
        "import pandas as pd\n",
        "\n",
        "# Carregando a base de dados que representa pacientes de um hospital cardiológico\n",
        "dados_pacientes = pd.read_csv('/pacientes.csv')\n",
        "\n",
        "# Criando segmentações no conjunto de dados para análise de condições de saúde\n",
        "grupo_com_condicoes_adicionais = dados_pacientes[dados_pacientes['Estado_Saude'] == 1]  # Pacientes com condições adicionais\n",
        "grupo_sem_condicoes_adicionais = dados_pacientes[dados_pacientes['Estado_Saude'] == 0]  # Pacientes sem condições adicionais\n",
        "\n",
        "# Apresentando a divisão dos dados para transparência na análise\n",
        "print(f\"Total de pacientes com condições adicionais: {len(grupo_com_condicoes_adicionais)}\")\n",
        "print(f\"Total de pacientes sem condições adicionais(Saudáveis): {len(grupo_sem_condicoes_adicionais)}\")\n",
        "\n",
        "# Discussão sobre a natureza das amostras\n",
        "conclusao = \"As amostras são independentes, indicando que os indivíduos em um grupo não influenciam, e nem estão relacionados aos indivíduos do outro grupo.\"\n",
        "print(conclusao)\n"
      ],
      "metadata": {
        "colab": {
          "base_uri": "https://localhost:8080/"
        },
        "id": "rdxP4Gw2BX5f",
        "outputId": "85cce74c-ed66-46c0-a55d-89f0122efb1a"
      },
      "execution_count": 12,
      "outputs": [
        {
          "output_type": "stream",
          "name": "stdout",
          "text": [
            "Total de pacientes com condições adicionais: 510\n",
            "Total de pacientes sem condições adicionais(Saudáveis): 490\n",
            "As amostras são independentes, indicando que os indivíduos em um grupo não influenciam, e nem estão relacionados aos indivíduos do outro grupo.\n"
          ]
        }
      ]
    },
    {
      "cell_type": "markdown",
      "source": [
        "Exercício 5: Comparação de Pressão Arterial por Condição de Saúde\n"
      ],
      "metadata": {
        "id": "ZUR7rACnCdZH"
      }
    },
    {
      "cell_type": "code",
      "source": [
        "import pandas as pd\n",
        "from scipy import stats\n",
        "\n",
        "# Carregando o conjunto de dados dos pacientes tratados em um contexto cardiológico\n",
        "dados_pacientes = pd.read_csv('/pacientes.csv')\n",
        "\n",
        "# Definindo os índices selecionados para uma investigação detalhada\n",
        "indices_selecionados = [690, 894, 67, 201, 364, 19, 60, 319, 588, 643, 855, 623, 530, 174, 105, 693,\n",
        "                        6, 462, 973, 607, 811, 346, 354, 966, 943, 372]\n",
        "\n",
        "# Extração de um subconjunto focal de pacientes com base nos índices escolhidos\n",
        "subconjunto_pacientes = dados_pacientes.loc[indices_selecionados]\n",
        "\n",
        "# Segmentação dos pacientes em dois grupos distintos baseados em suas condições de saúde\n",
        "pacientes_com_adição = subconjunto_pacientes[subconjunto_pacientes['Estado_Saude'] == 1]['Pressao_Arterial']\n",
        "pacientes_sem_adição = subconjunto_pacientes[subconjunto_pacientes['Estado_Saude'] == 0]['Pressao_Arterial']\n",
        "\n",
        "# Aplicação de um teste t de duas amostras para avaliar diferenças nas médias da pressão arterial\n",
        "t_estatistica, p_valor = stats.ttest_ind(pacientes_com_adição, pacientes_sem_adição, equal_var=False)\n",
        "\n",
        "# Exibição dos resultados com uma interpretação contextualizada\n",
        "print(f\"Análise Comparativa de Pressão Arterial:\\nEstatística t = {t_estatistica:.2f}, Valor-p = {p_valor:.4f}\")\n",
        "if p_valor < 0.06:  # Usando um nível de significância de 6%\n",
        "    print(\"Conclusão: Existe uma diferença significativa na pressão arterial entre os grupos, indicando um impacto das condições adicionais.\")\n",
        "else:\n",
        "    print(\"Conclusão: Não se observa uma diferença significativa na pressão arterial entre os grupos, sugerindo similaridade nas condições.\")\n"
      ],
      "metadata": {
        "colab": {
          "base_uri": "https://localhost:8080/"
        },
        "id": "F_7AIS0rD2Zk",
        "outputId": "407f07e1-5eba-46ce-c6bb-d7b9e10e37ae"
      },
      "execution_count": 13,
      "outputs": [
        {
          "output_type": "stream",
          "name": "stdout",
          "text": [
            "Análise Comparativa de Pressão Arterial:\n",
            "Estatística t = 0.08, Valor-p = 0.9345\n",
            "Conclusão: Não se observa uma diferença significativa na pressão arterial entre os grupos, sugerindo similaridade nas condições.\n"
          ]
        }
      ]
    },
    {
      "cell_type": "markdown",
      "source": [
        "Exercício 6: Teste ANOVA para Pressão Arterial entre Grupos Étnicos"
      ],
      "metadata": {
        "id": "PQPeqZUsEU5P"
      }
    },
    {
      "cell_type": "code",
      "source": [
        "import pandas as pd\n",
        "from scipy import stats\n",
        "\n",
        "# Carregamento dos dados clínicos dos pacientes\n",
        "dados_clinicos = pd.read_csv('/pacientes.csv')\n",
        "\n",
        "# Preparação dos dados para análise ANOVA, focando na pressão arterial dividida por grupos étnicos\n",
        "pressao_arterial_por_grupo = dados_clinicos.groupby('Etnia')['Pressao_Arterial'].apply(list)\n",
        "\n",
        "# Lista compreensiva de dados para o teste\n",
        "dados_para_analise = [grupo for grupo in pressao_arterial_por_grupo]\n",
        "\n",
        "# Execução do teste ANOVA para explorar diferenças entre grupos étnicos\n",
        "resultado_anova, p_valor_anova = stats.f_oneway(*dados_para_analise)\n",
        "\n",
        "# Apresentação dos resultados de maneira personalizada\n",
        "print(f\"Análise de Diferenças Étnicas em Pressão Arterial:\\nF-estatística = {resultado_anova:.2f}, Valor-p = {p_valor_anova:.4f}\")\n",
        "if p_valor_anova < 0.05:\n",
        "    print(\"Conclusão: Existe variação significativa entre os grupos étnicos, sugerindo influências étnicas na pressão arterial.\")\n",
        "else:\n",
        "    print(\"Conclusão: As variações entre grupos étnicos não são estatisticamente significativas, indicando uniformidade na pressão arterial.\")\n"
      ],
      "metadata": {
        "colab": {
          "base_uri": "https://localhost:8080/"
        },
        "id": "2aSwA9ceJbVf",
        "outputId": "de97a021-0402-4705-ea9f-d047353d1cb3"
      },
      "execution_count": 14,
      "outputs": [
        {
          "output_type": "stream",
          "name": "stdout",
          "text": [
            "Análise de Diferenças Étnicas em Pressão Arterial:\n",
            "F-estatística = 0.23, Valor-p = 0.8738\n",
            "Conclusão: As variações entre grupos étnicos não são estatisticamente significativas, indicando uniformidade na pressão arterial.\n"
          ]
        }
      ]
    },
    {
      "cell_type": "markdown",
      "source": [
        "Código Personalizado para Correlação de Pearson:\n"
      ],
      "metadata": {
        "id": "7D-MfSzwJpvJ"
      }
    },
    {
      "cell_type": "code",
      "source": [
        "# Análise de associação entre a idade dos pacientes e sua pressão arterial\n",
        "coeficiente_correlacao, p_valor_correlacao = stats.pearsonr(dados_clinicos['Idade'], dados_clinicos['Pressao_Arterial'])\n",
        "\n",
        "# Divulgação dos resultados com uma narrativa envolvente\n",
        "print(f\"Relação entre Idade e Pressão Arterial:\\nCoeficiente de Correlação = {coeficiente_correlacao:.2f}, Valor-p = {p_valor_correlacao:.4f}\")\n",
        "if p_valor_correlacao < 0.05:\n",
        "    print(\"Conclusão: Os dados indicam uma relação estatisticamente significativa entre idade e pressão arterial, refletindo potenciais fatores etários na saúde cardiovascular.\")\n",
        "else:\n",
        "    print(\"Conclusão: Não há evidências de uma relação significativa entre idade e pressão arterial, sugerindo independência dessas variáveis.\")"
      ],
      "metadata": {
        "colab": {
          "base_uri": "https://localhost:8080/"
        },
        "id": "Ce_et-RhJrai",
        "outputId": "5cdff1fb-4a4b-427a-da0a-47f5d5a2d537"
      },
      "execution_count": 15,
      "outputs": [
        {
          "output_type": "stream",
          "name": "stdout",
          "text": [
            "Relação entre Idade e Pressão Arterial:\n",
            "Coeficiente de Correlação = -0.02, Valor-p = 0.4994\n",
            "Conclusão: Não há evidências de uma relação significativa entre idade e pressão arterial, sugerindo independência dessas variáveis.\n"
          ]
        }
      ]
    },
    {
      "cell_type": "markdown",
      "source": [
        "Exercício 7: Teste Qui-Quadrado para Relação entre Gênero e Condições de Saúde\n"
      ],
      "metadata": {
        "id": "hTo_3G3kKJfJ"
      }
    },
    {
      "cell_type": "code",
      "source": [
        "import pandas as pd\n",
        "from scipy.stats import chi2_contingency\n",
        "\n",
        "# Carregando informações clínicas dos pacientes para uma análise detalhada\n",
        "dados_clinicos = pd.read_csv('/pacientes.csv')\n",
        "\n",
        "# Construção de uma tabela de contingência para explorar a relação entre gênero e condições de saúde\n",
        "tabela_contingencia_genero_saude = pd.crosstab(dados_clinicos['Genero'], dados_clinicos['Estado_Saude'])\n",
        "\n",
        "# Realizando o teste qui-quadrado para avaliar a independência entre as variáveis 'Genero' e 'Estado_Saude'\n",
        "chi_quadrado, p_valor_chi, _, _ = chi2_contingency(tabela_contingencia_genero_saude)\n",
        "\n",
        "# Apresentação dos resultados de forma narrativa e envolvente\n",
        "print(f\"Análise de Associação entre Gênero e Condições de Saúde:\\nChi-Quadrado = {chi_quadrado:.2f}, p-Valor = {p_valor_chi:.4f}\")\n",
        "if p_valor_chi < 0.05:\n",
        "    print(\"Conclusão: Há uma ligação significativa entre o gênero dos pacientes e a presença de condições de saúde adicionais.\")\n",
        "else:\n",
        "    print(\"Conclusão: Os dados não mostram uma relação significativa entre gênero e condições de saúde, sugerindo independência entre essas características.\")\n"
      ],
      "metadata": {
        "colab": {
          "base_uri": "https://localhost:8080/"
        },
        "id": "IpZLyftyKp6U",
        "outputId": "dd29f124-a8cb-470c-d9fa-2ed081dee040"
      },
      "execution_count": 17,
      "outputs": [
        {
          "output_type": "stream",
          "name": "stdout",
          "text": [
            "Análise de Associação entre Gênero e Condições de Saúde:\n",
            "Chi-Quadrado = 0.00, p-Valor = 1.0000\n",
            "Conclusão: Os dados não mostram uma relação significativa entre gênero e condições de saúde, sugerindo independência entre essas características.\n"
          ]
        }
      ]
    },
    {
      "cell_type": "markdown",
      "source": [
        "Exercício 8: Intervalo de Confiança para Pressão Arterial em Condições Específicas\n"
      ],
      "metadata": {
        "id": "mqUFEN0fK4HG"
      }
    },
    {
      "cell_type": "code",
      "source": [
        "import pandas as pd\n",
        "from scipy.stats import t, sem\n",
        "import numpy as np\n",
        "\n",
        "# Importando os registros de saúde de um repositório clínico\n",
        "dados_pacientes = pd.read_csv('/pacientes.csv')\n",
        "\n",
        "# Seleção de indivíduos com histórico de condições de saúde complexas\n",
        "grupo_de_risco = dados_pacientes[dados_pacientes['Estado_Saude'] == 1]['Pressao_Arterial']\n",
        "\n",
        "# Análise exploratória para determinar a média da pressão arterial neste subgrupo\n",
        "media_pressao = np.mean(grupo_de_risco)\n",
        "desvio_pressao = np.std(grupo_de_risco, ddof=1)\n",
        "\n",
        "# Aplicação da técnica estatística para intervalo de confiança de 95%\n",
        "intervalo_95 = t.interval(confidence=0.95, df=len(grupo_de_risco)-1, loc=media_pressao, scale=sem(grupo_de_risco))\n",
        "\n",
        "# Comunicando os achados de uma maneira clara e conclusiva\n",
        "print(f\"Média Observada de Pressão Arterial: {media_pressao:.2f} mmHg\")\n",
        "print(f\"Intervalo de Confiança a 95%: de {intervalo_95[0]:.2f} mmHg a {intervalo_95[1]:.2f} mmHg\")\n"
      ],
      "metadata": {
        "colab": {
          "base_uri": "https://localhost:8080/"
        },
        "id": "VaNDZ5DqNb_I",
        "outputId": "fd0b1022-4678-4f7e-f466-776a485b7eb3"
      },
      "execution_count": 21,
      "outputs": [
        {
          "output_type": "stream",
          "name": "stdout",
          "text": [
            "Média Observada de Pressão Arterial: 150.12 mmHg\n",
            "Intervalo de Confiança a 95%: de 149.22 mmHg a 151.02 mmHg\n"
          ]
        }
      ]
    },
    {
      "cell_type": "markdown",
      "source": [
        "Exercício 9: Teste de Normalidade para a Pressão Arterial\n"
      ],
      "metadata": {
        "id": "uJkSDnxHK6_R"
      }
    },
    {
      "cell_type": "code",
      "source": [
        "import pandas as pd\n",
        "from scipy.stats import normaltest\n",
        "\n",
        "# Carregando os dados detalhados de saúde cardiovascular dos pacientes\n",
        "dados_cardio = pd.read_csv('/pacientes.csv')\n",
        "\n",
        "# Concentração na variável de interesse, a pressão arterial\n",
        "pressao_arterial = dados_cardio['Pressao_Arterial']\n",
        "\n",
        "# Aplicação do teste de normalidade de D'Agostino-Pearson para avaliar a forma da distribuição\n",
        "estatistica_teste, p_valor = normaltest(pressao_arterial)\n",
        "\n",
        "# Diálogo explicativo sobre os resultados obtidos\n",
        "print(f\"Análise de Normalidade para Pressão Arterial:\\nEstatística de Teste = {estatistica_teste:.2f}, p-Valor = {p_valor:.4f}\")\n",
        "if p_valor < 0.05:\n",
        "    print(\"Conclusão: A hipótese nula é rejeitada; a pressão arterial não segue uma distribuição normal.\")\n",
        "else:\n",
        "    print(\"Conclusão: Não rejeitamos a hipótese nula; a pressão arterial segue uma distribuição normal.\")\n"
      ],
      "metadata": {
        "colab": {
          "base_uri": "https://localhost:8080/"
        },
        "id": "gCBDeD03N5_-",
        "outputId": "b3bb0bbd-951a-46eb-ffa1-34dab30ce0b0"
      },
      "execution_count": 24,
      "outputs": [
        {
          "output_type": "stream",
          "name": "stdout",
          "text": [
            "Análise de Normalidade para Pressão Arterial:\n",
            "Estatística de Teste = 6.87, p-Valor = 0.0322\n",
            "Conclusão: A hipótese nula é rejeitada; a pressão arterial não segue uma distribuição normal.\n"
          ]
        }
      ]
    }
  ]
}