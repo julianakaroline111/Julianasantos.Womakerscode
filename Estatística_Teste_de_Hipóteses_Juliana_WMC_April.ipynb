{
  "nbformat": 4,
  "nbformat_minor": 0,
  "metadata": {
    "colab": {
      "provenance": [],
      "authorship_tag": "ABX9TyNFrGWJGQ5RUfBfc70tV95c",
      "include_colab_link": true
    },
    "kernelspec": {
      "name": "python3",
      "display_name": "Python 3"
    },
    "language_info": {
      "name": "python"
    }
  },
  "cells": [
    {
      "cell_type": "markdown",
      "metadata": {
        "id": "view-in-github",
        "colab_type": "text"
      },
      "source": [
        "<a href=\"https://colab.research.google.com/github/julianakaroline111/Julianasantos.Womakerscode/blob/main/Estat%C3%ADstica_Teste_de_Hip%C3%B3teses_Juliana_WMC_April.ipynb\" target=\"_parent\"><img src=\"https://colab.research.google.com/assets/colab-badge.svg\" alt=\"Open In Colab\"/></a>"
      ]
    },
    {
      "cell_type": "markdown",
      "source": [
        "Exercício 1: Avaliação da Taxa de Conversão entre Cenários"
      ],
      "metadata": {
        "id": "Pa1RecN3rybi"
      }
    },
    {
      "cell_type": "code",
      "source": [
        "import pandas as pd\n",
        "\n",
        "# Carregando dados do experimento A/B para análise\n",
        "experimento_df = pd.read_csv('/experimento_teste_ab.csv')\n",
        "\n",
        "# Calculando e exibindo a taxa de conversão por versão de página\n",
        "conversion_rates = experimento_df.groupby('Versão_Página').apply(\n",
        "    lambda x: x['Conversões'].sum() / x['Visualizações'].sum()\n",
        ")\n",
        "print(\"Análise de Taxa de Conversão por Página:\\n\", conversion_rates.to_string())"
      ],
      "metadata": {
        "colab": {
          "base_uri": "https://localhost:8080/"
        },
        "id": "T3902SD3twUw",
        "outputId": "5a6b8b5b-4536-406e-8278-0c9cf71076cd"
      },
      "execution_count": 12,
      "outputs": [
        {
          "output_type": "stream",
          "name": "stdout",
          "text": [
            "Análise de Taxa de Conversão por Página:\n",
            " Versão_Página\n",
            "A    0.000696\n",
            "B    0.000830\n"
          ]
        }
      ]
    },
    {
      "cell_type": "code",
      "source": [
        "# Formatação dos resultados de taxa de conversão para exibição em porcentagem\n",
        "conversion_rates_percent = conversion_rates.apply(lambda x: f\"{x * 100:.2f}%\")\n",
        "print(\"Análise de Taxa de Conversão por Página (em porcentagem):\\n\", conversion_rates_percent.to_string())"
      ],
      "metadata": {
        "colab": {
          "base_uri": "https://localhost:8080/"
        },
        "id": "aPovKUax2MFY",
        "outputId": "b829a7a9-0521-417e-9dbb-d605a493df4e"
      },
      "execution_count": 13,
      "outputs": [
        {
          "output_type": "stream",
          "name": "stdout",
          "text": [
            "Análise de Taxa de Conversão por Página (em porcentagem):\n",
            " Versão_Página\n",
            "A    0.07%\n",
            "B    0.08%\n"
          ]
        }
      ]
    },
    {
      "cell_type": "markdown",
      "source": [
        "Exercício 2: Determinação do Tamanho da Amostra para Teste A/B\n",
        "\n",
        "\n",
        "\n",
        "\n"
      ],
      "metadata": {
        "id": "N9Msv1nO2QCA"
      }
    },
    {
      "cell_type": "code",
      "source": [
        "import pandas as pd\n",
        "from statsmodels.stats.power import NormalIndPower\n",
        "from statsmodels.stats.proportion import proportion_effectsize\n",
        "\n",
        "# Carregando os dados do experimento para avaliação do cenário de conversão\n",
        "dados_experimento = pd.read_csv('/experimento_teste_ab.csv')\n",
        "\n",
        "# Calculando a taxa de conversão atual do cenário A, que é nosso controle\n",
        "taxa_atual_cenario_A = dados_experimento[dados_experimento['Versão_Página'] == 'A']['Conversões'].sum() / dados_experimento[dados_experimento['Versão_Página'] == 'A']['Visualizações'].sum()\n",
        "\n",
        "# Definindo a nova meta de taxa de conversão desejada para 10%\n",
        "meta_taxa_conversao = 0.10\n",
        "\n",
        "# Calculando o tamanho do efeito necessário para detectar a mudança desejada entre o cenário atual e a nova meta\n",
        "tamanho_do_efeito = proportion_effectsize(taxa_atual_cenario_A, meta_taxa_conversao)\n",
        "\n",
        "# Preparando a análise de poder estatístico para determinar o tamanho da amostra\n",
        "analise_poder = NormalIndPower()\n",
        "\n",
        "try:\n",
        "    # Determinando o tamanho da amostra necessário para alcançar os objetivos do teste com 95% de confiança e 80% de poder\n",
        "    tamanho_amostra_necessario = analise_poder.solve_power(effect_size=tamanho_do_efeito, alpha=0.05, power=0.80, ratio=1.0, alternative='two-sided')\n",
        "    print(f\"Taxa de conversão atual no cenário A: {taxa_atual_cenario_A:.4f}\")\n",
        "    print(f\"Tamanho do efeito estimado: {tamanho_do_efeito:.4f}\")\n",
        "    print(f\"Tamanho da amostra necessário por grupo para detectar a mudança desejada: {int(tamanho_amostra_necessario)}\")\n",
        "except Exception as erro:\n",
        "    print(f\"Ocorreu um erro ao calcular o tamanho da amostra: {erro}\")\n"
      ],
      "metadata": {
        "colab": {
          "base_uri": "https://localhost:8080/"
        },
        "id": "OGBxh6g19fam",
        "outputId": "b3aaa087-2dd8-402d-e293-e9f10b29039c"
      },
      "execution_count": 25,
      "outputs": [
        {
          "output_type": "stream",
          "name": "stdout",
          "text": [
            "Taxa de conversão atual no cenário A: 0.0007\n",
            "Tamanho do efeito estimado: -0.5907\n",
            "Tamanho da amostra necessário por grupo para detectar a mudança desejada: 44\n"
          ]
        }
      ]
    },
    {
      "cell_type": "markdown",
      "source": [
        "Exercício 3: Análise de Idade Média em Pacientes com Problemas Cardíacos\n"
      ],
      "metadata": {
        "id": "3VGkiPar98pf"
      }
    },
    {
      "cell_type": "code",
      "source": [
        "import pandas as pd\n",
        "from scipy import stats\n",
        "\n",
        "# Carregando a base de dados de pacientes para análise\n",
        "dados_pacientes = pd.read_csv('/pacientes.csv')\n",
        "\n",
        "# Definindo uma lista de índices representativos para estudar um grupo específico de pacientes\n",
        "indices_selecionados = [909, 751, 402, 400, 726, 39, 184, 269, 255, 769, 209, 715, 677, 381, 793, 697,\n",
        "                        89, 280, 232, 756, 358, 36, 439, 768, 967, 699, 473, 222, 89, 639, 883, 558, 757,\n",
        "                        84, 907, 895, 217, 224, 311, 348, 146, 505, 273, 957, 362]\n",
        "\n",
        "# Extrair as idades dos pacientes usando os índices especificados\n",
        "amostra_idades = dados_pacientes.loc[indices_selecionados, 'Idade']\n",
        "\n",
        "# Aplicar teste estatístico t para verificar se a idade média dos pacientes excede 50 anos\n",
        "t_estatistica, valor_p = stats.ttest_1samp(amostra_idades, 50)\n",
        "\n",
        "# Apresentar os resultados de uma forma clara e interpretativa\n",
        "print(f\"Análise da Idade dos Pacientes com Problemas Cardíacos:\\nEstatística-t = {t_estatistica:.2f}, Valor-p = {valor_p:.4f}\")\n",
        "\n",
        "# Decisão baseada no valor-p e na significância estatística definida\n",
        "if valor_p < 0.05:\n",
        "    print(\"Conclusão: Há evidências estatísticas de que a idade média é significativamente maior que 50 anos.\")\n",
        "else:\n",
        "    print(\"Conclusão: As evidências não são suficientes para afirmar que a idade média ultrapassa 50 anos.\")\n"
      ],
      "metadata": {
        "colab": {
          "base_uri": "https://localhost:8080/"
        },
        "id": "E8piVkLt_vuN",
        "outputId": "c34fa3e2-f35c-4c90-cd86-4a16b4775736"
      },
      "execution_count": 30,
      "outputs": [
        {
          "output_type": "stream",
          "name": "stdout",
          "text": [
            "Análise da Idade dos Pacientes com Problemas Cardíacos:\n",
            "Estatística-t = 0.05, Valor-p = 0.9585\n",
            "Conclusão: As evidências não são suficientes para afirmar que a idade média ultrapassa 50 anos.\n"
          ]
        }
      ]
    },
    {
      "cell_type": "markdown",
      "source": [
        "Exercício 4: Análise/Discussão sobre a Independência de Amostras"
      ],
      "metadata": {
        "id": "FouRtRaXALQB"
      }
    },
    {
      "cell_type": "code",
      "source": [
        "import pandas as pd\n",
        "\n",
        "# Carregando a base de dados que representa pacientes de um hospital cardiológico\n",
        "dados_pacientes = pd.read_csv('/pacientes.csv')\n",
        "\n",
        "# Criando segmentações no conjunto de dados para análise de condições de saúde\n",
        "grupo_com_condicoes_adicionais = dados_pacientes[dados_pacientes['Estado_Saude'] == 1]  # Pacientes com condições adicionais\n",
        "grupo_sem_condicoes_adicionais = dados_pacientes[dados_pacientes['Estado_Saude'] == 0]  # Pacientes sem condições adicionais\n",
        "\n",
        "# Apresentando a divisão dos dados para transparência na análise\n",
        "print(f\"Total de pacientes com condições adicionais: {len(grupo_com_condicoes_adicionais)}\")\n",
        "print(f\"Total de pacientes sem condições adicionais(Saudáveis): {len(grupo_sem_condicoes_adicionais)}\")\n",
        "\n",
        "# Discussão sobre a natureza das amostras\n",
        "conclusao = \"As amostras são independentes, indicando que os indivíduos em um grupo não influenciam, e nem estão relacionados aos indivíduos do outro grupo.\"\n",
        "print(conclusao)\n"
      ],
      "metadata": {
        "colab": {
          "base_uri": "https://localhost:8080/"
        },
        "id": "rdxP4Gw2BX5f",
        "outputId": "bde9935e-6576-43b4-cfb9-9296dd21a859"
      },
      "execution_count": 32,
      "outputs": [
        {
          "output_type": "stream",
          "name": "stdout",
          "text": [
            "Total de pacientes com condições adicionais: 510\n",
            "Total de pacientes sem condições adicionais(Saudáveis): 490\n",
            "As amostras são independentes, indicando que os indivíduos em um grupo não influenciam, e nem estão relacionados aos indivíduos do outro grupo.\n"
          ]
        }
      ]
    },
    {
      "cell_type": "markdown",
      "source": [
        "Exercício 5: Comparação de Pressão Arterial por Condição de Saúde\n"
      ],
      "metadata": {
        "id": "ZUR7rACnCdZH"
      }
    },
    {
      "cell_type": "code",
      "source": [],
      "metadata": {
        "id": "4y5LutNmCghk"
      },
      "execution_count": null,
      "outputs": []
    }
  ]
}